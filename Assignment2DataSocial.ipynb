{
 "cells": [
  {
   "cell_type": "markdown",
   "metadata": {},
   "source": [
    "# Creating the csv files needed for 2B"
   ]
  },
  {
   "cell_type": "markdown",
   "metadata": {},
   "source": [
    "### First Getting the prostitution"
   ]
  },
  {
   "cell_type": "code",
   "execution_count": 6,
   "metadata": {
    "collapsed": false
   },
   "outputs": [],
   "source": [
    "prostitution =  df.loc[df['Category'] == \"PROSTITUTION\"]\n",
    "\n"
   ]
  },
  {
   "cell_type": "markdown",
   "metadata": {},
   "source": [
    "### Creating points array needed for the k means algorithm"
   ]
  },
  {
   "cell_type": "code",
   "execution_count": 117,
   "metadata": {
    "collapsed": false
   },
   "outputs": [],
   "source": [
    "X = []\n",
    "Y = []\n",
    "for i in prostitution['X']:\n",
    "    X.append(i)\n",
    "for i in prostitution['Y']:\n",
    "    Y.append(i)\n",
    "    \n",
    "import numpy \n",
    "points = numpy.zeros(shape=(len(Y),2))\n",
    "for i in range(0,len(Y)):\n",
    "    if Y[i] <40 and X[i]<0: \n",
    "        points[i][0] = X[i]\n",
    "        points[i][1] = Y[i]\n",
    "    else:\n",
    "        points[i][0] = -122.416078424\n",
    "        points[i][1]= 37.7620347867"
   ]
  },
  {
   "cell_type": "markdown",
   "metadata": {},
   "source": [
    "### Using Lloyd’s algorithm for creating k-means"
   ]
  },
  {
   "cell_type": "code",
   "execution_count": 38,
   "metadata": {
    "collapsed": false
   },
   "outputs": [],
   "source": [
    "import numpy as np\n",
    "import random\n",
    "def cluster_points(X, mu):\n",
    "    clusters  = {}\n",
    "    for x in X:\n",
    "        bestmukey = min([(i[0], np.linalg.norm(x-mu[i[0]])) \\\n",
    "                    for i in enumerate(mu)], key=lambda t:t[1])[0]\n",
    "        try:\n",
    "            clusters[bestmukey].append(x)\n",
    "        except KeyError:\n",
    "            clusters[bestmukey] = [x]\n",
    "    return clusters\n",
    " \n",
    "def reevaluate_centers(mu, clusters):\n",
    "    newmu = []\n",
    "    keys = sorted(clusters.keys())\n",
    "    for k in keys:\n",
    "        newmu.append(np.mean(clusters[k], axis = 0))\n",
    "    return newmu\n",
    "def has_converged(mu, oldmu):\n",
    "    return (set([tuple(a) for a in mu]) == set([tuple(a) for a in oldmu]))\n",
    "\n",
    "def find_centers(X, K):\n",
    "    # Initialize to K random centers\n",
    "    oldmu = random.sample(X, K)\n",
    "    mu = random.sample(X, K)\n",
    "    while not has_converged(mu, oldmu):\n",
    "        oldmu = mu\n",
    "        # Assign all points in X to clusters\n",
    "        clusters = cluster_points(X, mu)\n",
    "        # Reevaluate centers\n",
    "        mu = reevaluate_centers(oldmu, clusters)\n",
    "    return(mu, clusters)\n"
   ]
  },
  {
   "cell_type": "markdown",
   "metadata": {},
   "source": [
    "### Finding the clusters"
   ]
  },
  {
   "cell_type": "code",
   "execution_count": 145,
   "metadata": {
    "collapsed": false
   },
   "outputs": [],
   "source": [
    "k2 = find_centers(points,2)\n",
    "k3 = find_centers(points,3)\n",
    "k4 = find_centers(points,4)\n",
    "k5 = find_centers(points,5)\n",
    "k6 = find_centers(points,6)"
   ]
  },
  {
   "cell_type": "markdown",
   "metadata": {},
   "source": [
    "### We saved the k-means algorithm in 5 different csv, each for each k=2,3,4,5,6"
   ]
  },
  {
   "cell_type": "code",
   "execution_count": 146,
   "metadata": {
    "collapsed": false
   },
   "outputs": [],
   "source": [
    "f =  open('k2.csv', 'w')\n",
    "f.write(\"lat,lon,type,\\n\")\n",
    "counter = 1\n",
    "\n",
    "\n",
    "# all the points besides the clusters   \n",
    "for i in range(0, len(k2)):\n",
    "    for j in k2[1][i]:\n",
    "        s= \"\"\n",
    "        s = s + str(j[0]) +  ','+  str(j[1]) + \",\" + str(i+1) + '\\n'\n",
    "        f.write(s)\n",
    "#the clusters points\n",
    "for i in k2[0]:\n",
    "    s= \"\"\n",
    "    s = s + str(i[0]) +  ','+  str(i[1]) + \",\" + str(counter*10) + '\\n'\n",
    "    f.write(s )\n",
    "    counter=  counter +1 \n",
    "f.close()"
   ]
  },
  {
   "cell_type": "markdown",
   "metadata": {},
   "source": [
    "k2[1]"
   ]
  },
  {
   "cell_type": "code",
   "execution_count": 147,
   "metadata": {
    "collapsed": false
   },
   "outputs": [],
   "source": [
    "f =  open('k3.csv', 'w')\n",
    "f.write(\"lat,lon,type,\\n\")\n",
    "counter = 1\n",
    "\n",
    "\n",
    "    \n",
    "for i in range(0, len(k3)):\n",
    "    for j in k3[1][i]:\n",
    "        s= \"\"\n",
    "        s = s + str(j[0]) +  ','+  str(j[1]) + \",\" + str(i+1) + '\\n'\n",
    "        f.write(s)\n",
    "for i in k3[0]:\n",
    "    s= \"\"\n",
    "    s = s + str(i[0]) +  ','+  str(i[1]) + \",\" + str(counter*10) + '\\n'\n",
    "    f.write(s )\n",
    "    counter=  counter +1   \n",
    "f.close()"
   ]
  },
  {
   "cell_type": "code",
   "execution_count": 150,
   "metadata": {
    "collapsed": false
   },
   "outputs": [],
   "source": [
    "k = k4\n",
    "\n",
    "f =  open('k4.csv', 'w')\n",
    "f.write(\"lat,lon,type,\\n\")\n",
    "counter = 1\n",
    "for i in k[0]:\n",
    "    s= \"\"\n",
    "    s = s + str(i[0]) +  ','+  str(i[1]) + \",\" + str(counter*10) + '\\n'\n",
    "    f.write(s )\n",
    "    counter=  counter +1 \n",
    "\n",
    "    \n",
    "for i in range(0, len(k[1])):\n",
    "    for j in k[1][i]:\n",
    "        s= \"\"\n",
    "        s = s + str(j[0]) +  ','+  str(j[1]) + \",\" + str(i+1) + '\\n'\n",
    "        f.write(s)\n",
    "    \n",
    "f.close()"
   ]
  },
  {
   "cell_type": "code",
   "execution_count": 108,
   "metadata": {
    "collapsed": false
   },
   "outputs": [
    {
     "data": {
      "text/plain": [
       "5"
      ]
     },
     "execution_count": 108,
     "metadata": {},
     "output_type": "execute_result"
    }
   ],
   "source": [
    "k = k5\n",
    "\n",
    "f =  open('k5.csv', 'w')\n",
    "f.write(\"lat,lon,type,\\n\")\n",
    "counter = 1\n",
    "for i in k[0]:\n",
    "    s= \"\"\n",
    "    s = s + str(i[0]) +  ','+  str(i[1]) + \",\" + str(counter*10) + '\\n'\n",
    "    f.write(s )\n",
    "    counter=  counter +1 \n",
    "\n",
    "    \n",
    "for i in range(0, len(k[1])):\n",
    "    for j in k[1][i]:\n",
    "        s= \"\"\n",
    "        s = s + str(j[0]) +  ','+  str(j[1]) + \",\" + str(i+1) + '\\n'\n",
    "        f.write(s)\n",
    "    \n",
    "f.close()"
   ]
  },
  {
   "cell_type": "code",
   "execution_count": null,
   "metadata": {
    "collapsed": true
   },
   "outputs": [],
   "source": [
    "k = k6\n",
    "\n",
    "f =  open('k6.csv', 'w')\n",
    "f.write(\"lat,lon,type,\\n\")\n",
    "counter = 1\n",
    "for i in k[0]:\n",
    "    s= \"\"\n",
    "    s = s + str(i[0]) +  ','+  str(i[1]) + \",\" + str(counter*10) + '\\n'\n",
    "    f.write(s )\n",
    "    counter=  counter +1 \n",
    "\n",
    "    \n",
    "for i in range(0, len(k[1])):\n",
    "    for j in k[1][i]:\n",
    "        s= \"\"\n",
    "        s = s + str(j[0]) +  ','+  str(j[1]) + \",\" + str(i+1) + '\\n'\n",
    "        f.write(s)\n",
    "    \n",
    "f.close()"
   ]
  }
 ],
 "metadata": {
  "kernelspec": {
   "display_name": "Python [Root]",
   "language": "python",
   "name": "Python [Root]"
  },
  "language_info": {
   "codemirror_mode": {
    "name": "ipython",
    "version": 2
   },
   "file_extension": ".py",
   "mimetype": "text/x-python",
   "name": "python",
   "nbconvert_exporter": "python",
   "pygments_lexer": "ipython2",
   "version": "2.7.12"
  }
 },
 "nbformat": 4,
 "nbformat_minor": 0
}
